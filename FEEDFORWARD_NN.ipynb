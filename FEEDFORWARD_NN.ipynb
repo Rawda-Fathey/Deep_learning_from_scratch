{
 "cells": [
  {
   "cell_type": "code",
   "execution_count": null,
   "metadata": {},
   "outputs": [
    {
     "name": "stdout",
     "output_type": "stream",
     "text": [
      "Output of the neural network:\n",
      "o1 = 0.6988264194445126\n",
      "o2 = 0.671182228045108\n",
      "\n",
      "Total Error = 0.28806330391951457\n"
     ]
    }
   ],
   "source": [
    "import random\n",
    "\n",
    "def initialize_weights():\n",
    "    return random.uniform(-0.5, 0.5)\n",
    "\n",
    "\n",
    "def exp_approx(x, terms=10):\n",
    "    result = 1\n",
    "    numerator = 1\n",
    "    denominator = 1\n",
    "    for n in range(1, terms):\n",
    "        numerator *= x\n",
    "        denominator *= n\n",
    "        result += numerator / denominator\n",
    "    return result\n",
    "\n",
    "def tanh(x):\n",
    "    e_x = exp_approx(x)\n",
    "    e_neg_x = exp_approx(-x)\n",
    "    return (e_x - e_neg_x) / (e_x + e_neg_x)\n",
    "\n",
    "\n",
    "def squared_error(target, output):\n",
    "    return 0.5 * (target - output) ** 2\n",
    "\n",
    "\n",
    "i1, i2 = 0.05, 0.10  \n",
    "\n",
    "b1, b2 = 0.5, 0.7  \n",
    "\n",
    "w1, w2, w3, w4 = initialize_weights(), initialize_weights(),\n",
    "initialize_weights(), initialize_weights()\n",
    "w5, w6, w7, w8 = initialize_weights(), initialize_weights(),\n",
    "initialize_weights(), initialize_weights()\n",
    "\n",
    "h1_input = (i1 * w1) + (i2 * w3) + b1\n",
    "h2_input = (i1 * w2) + (i2 * w4) + b1\n",
    "\n",
    "h1_output = tanh(h1_input)\n",
    "h2_output = tanh(h2_input)\n",
    "\n",
    "o1_input = (h1_output * w5) + (h2_output * w7) + b2\n",
    "o2_input = (h1_output * w6) + (h2_output * w8) + b2\n",
    "\n",
    "o1_output = tanh(o1_input)\n",
    "o2_output = tanh(o2_input)\n",
    "\n",
    "target_o1, target_o2 = 0.01, 0.99 \n",
    "\n",
    "error_o1 = squared_error(target_o1, o1_output)\n",
    "error_o2 = squared_error(target_o2, o2_output)\n",
    "\n",
    "total_error = error_o1 + error_o2\n",
    "\n",
    "print(\"Output of the neural network:\")\n",
    "print(\"o1 =\", o1_output)\n",
    "print(\"o2 =\", o2_output)\n",
    "print(\"\\nTotal Error =\", total_error)\n",
    "\n",
    "\n"
   ]
  },
  {
   "cell_type": "code",
   "execution_count": null,
   "metadata": {},
   "outputs": [],
   "source": []
  }
 ],
 "metadata": {
  "kernelspec": {
   "display_name": "testing",
   "language": "python",
   "name": "python3"
  },
  "language_info": {
   "codemirror_mode": {
    "name": "ipython",
    "version": 3
   },
   "file_extension": ".py",
   "mimetype": "text/x-python",
   "name": "python",
   "nbconvert_exporter": "python",
   "pygments_lexer": "ipython3",
   "version": "3.12.3"
  }
 },
 "nbformat": 4,
 "nbformat_minor": 2
}
